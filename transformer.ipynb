{
  "nbformat": 4,
  "nbformat_minor": 0,
  "metadata": {
    "colab": {
      "provenance": [],
      "authorship_tag": "ABX9TyNb5At9bjIonZke849ThqjY",
      "include_colab_link": true
    },
    "kernelspec": {
      "name": "python3",
      "display_name": "Python 3"
    },
    "language_info": {
      "name": "python"
    }
  },
  "cells": [
    {
      "cell_type": "markdown",
      "metadata": {
        "id": "view-in-github",
        "colab_type": "text"
      },
      "source": [
        "<a href=\"https://colab.research.google.com/github/karam-koujan/Transformer/blob/main/transformer.ipynb\" target=\"_parent\"><img src=\"https://colab.research.google.com/assets/colab-badge.svg\" alt=\"Open In Colab\"/></a>"
      ]
    },
    {
      "cell_type": "code",
      "execution_count": null,
      "metadata": {
        "id": "0Ry67Bu3sUZ2"
      },
      "outputs": [],
      "source": [
        "import torch\n",
        "import torch.nn as nn\n",
        "\n",
        "def get_device():\n",
        "    return torch.device(\"cuda\" if torch.cuda.is_available() else \"cpu\")\n",
        "\n",
        "class Positional_embedding(nn.Module):\n",
        "      def __init__(self,d_model,max_len=1000) :\n",
        "            super(Positional_embedding).__init__()\n",
        "            self.d_model = d_model\n",
        "            self.max_len = max_len\n",
        "            self.positional_embedding = torch.zeros((max_len,d_model))\n",
        "            pos = torch.arange(0,max_len,dtype=torch.float).unsqueeze(1)\n",
        "            div = torch.pow(1000,torch.arange(0,d_model,2,dtype=torch.float)/d_model)\n",
        "            print(pos.size())\n",
        "            print(div.size())\n",
        "            self.positional_embedding[:,0::2] = torch.sin(pos/div)\n",
        "            self.positional_embedding[:,1::2] = torch.cos(pos/div)\n",
        "      def forward(self,x) :\n",
        "            print(x.size())\n",
        "            x = x +  self.positional_embedding\n",
        "            return x\n",
        "class Tokenizer(nn.Module) :\n",
        "      def __init__(self,model_d,max_sequence_length,language_to_index,start_token,end_token,pad_token,dropout_p=0.1) :\n",
        "            super(Tokenizer,self).__init__()\n",
        "            self.vocab_size = len(language_to_index)\n",
        "            self.embedding = nn.Embedding(self.vocab_size,model_d)\n",
        "            self.max_sequence_length = max_sequence_length\n",
        "            self.language_to_index = language_to_index\n",
        "            self.start_token = start_token\n",
        "            self.end_token = end_token\n",
        "            self.pad_token = pad_token\n",
        "            self.dropout = nn.Dropout(p=dropout_p)\n",
        "            self.positional_embedding = Positional_embedding(model_d,max_sequence_length)\n",
        "      def batch_tokenization(self,batch,start_token,end_token) :\n",
        "              def sentence_tokenize(sentence,start_token,end_token) :\n",
        "                      sentence_to_index = [  self.language_to_index[token]  for token in list(sentence)]\n",
        "                      if start_token :\n",
        "                            sentence_to_index.insert(0,self.language_to_index[self.start_token])\n",
        "                      if end_token :\n",
        "                            sentence_to_index.append(self.language_to_index[self.end_token])\n",
        "                      for _ in range(len(sentence_to_index),self.max_sequence_length):\n",
        "                                  sentence_to_index.append(self.language_to_index[self.pad_token])\n",
        "                      return torch.tensor(sentence_to_index)\n",
        "\n",
        "              sentence_batch = []\n",
        "              for sentence_idx in range(len(batch)) :\n",
        "                    sentence_batch.append(sentence_tokenize(batch[sentence_idx],start_token,end_token))\n",
        "\n",
        "              sentence_batch = torch.stack(sentence_batch)\n",
        "              return sentence_batch.to(get_device())\n",
        "      def forward(self,x,start_token,end_token) :\n",
        "            # (batch,vocab_size,embed_d)\n",
        "            x = self.batch_tokenization(x,start_token,end_token)\n",
        "            x = self.embedding(x)\n",
        "            pos = self.positional_embedding(x)\n",
        "            x = self.dropout(x+pos)\n",
        "            return x\n",
        "\n",
        "\n",
        "\n"
      ]
    },
    {
      "cell_type": "code",
      "source": [
        "class LayerNorm(nn.Module):\n",
        "      def __init__(self,epsilon=1e-6):\n",
        "              super(LayerNorm,self).__init__()\n",
        "              self.epsilon = epsilon\n",
        "\n",
        "      def forward(self,x) :\n",
        "              batch_size,seq_length,model_d = x.shape\n",
        "              gamma = nn.Parameter(torch.ones(model_d))\n",
        "              beta = nn.Parameter(torch.zeros(model_d))\n",
        "              mean = x.mean(-1,keepdim=True)\n",
        "              var = x.var(-1,keepdim=True)\n",
        "              x_normalized = (x - mean) / torch.sqrt(var + self.epsilon)\n",
        "\n",
        "              x = gamma * x_normalized + beta\n",
        "              return x"
      ],
      "metadata": {
        "id": "MdGWRvy5N2aC"
      },
      "execution_count": null,
      "outputs": []
    },
    {
      "cell_type": "code",
      "source": [
        "attention_heads = 8\n",
        "model_d = 512\n",
        "qkv_d = model_d // attention_heads\n"
      ],
      "metadata": {
        "id": "ryyD2k0L8Oj6"
      },
      "execution_count": null,
      "outputs": []
    },
    {
      "cell_type": "code",
      "source": [
        "class MultiHeadAttention(nn.Module) :\n",
        "      def __init__(self,input_d,model_d,heads_num) :\n",
        "                  super(MultiHeadAttention,self).__init__()\n",
        "                  self.input_d = input_d\n",
        "                  self.model_d = model_d\n",
        "                  self.heads_num = heads_num\n",
        "                  self.qkv_d = model_d // heads_num\n",
        "                  self.queryP = nn.Linear(model_d,model_d)\n",
        "                  self.valueP = nn.Linear(model_d,model_d)\n",
        "                  self.keyP = nn.Linear(model_d,model_d)\n",
        "                  self.out = nn.Linear(model_d,model_d)\n",
        "      def attention(self,q,k,v,d,mask=None) :\n",
        "             dk = torch.tensor(d,dtype=torch.float32)\n",
        "             energy = torch.matmul(q,k.permute((0,1,3,2))) / torch.sqrt(dk)\n",
        "             if mask is not None:\n",
        "                        energy = energy.masked_fill(mask != 0, float(\"-1e9\"))\n",
        "             return torch.matmul(torch.softmax(energy,dim=-1),v)\n",
        "      def forward(self,x,mask=None):\n",
        "              \"\"\"\n",
        "               first we create key,query and value using a linear projection using a 1 fully connected layer\n",
        "               The size of these tensors is (input_sequence_length,model_d)\n",
        "              \"\"\"\n",
        "              query= None\n",
        "              key = None\n",
        "              value = None\n",
        "              if isinstance(x,(list,tuple)) :\n",
        "                   query,key,value = x\n",
        "                   query = self.queryP(query)\n",
        "                   key = self.keyP(key)\n",
        "                   value = self.valueP(value)\n",
        "\n",
        "              else :\n",
        "                   print(x.shape)\n",
        "                   query = self.queryP(x)\n",
        "                   key = self.keyP(x)\n",
        "                   value = self.valueP(x)\n",
        "\n",
        "              \"\"\"\n",
        "               we add another dimension for heads now the tensors size is (heads_num,input_sequence,model_d)\n",
        "               calculte attention for each head independently and in parallel\n",
        "              \"\"\"\n",
        "              query = query.view(-1,self.heads_num,self.input_d,self.qkv_d)\n",
        "              key = key.view(-1,self.heads_num,self.input_d,self.qkv_d)\n",
        "              value = value.view(-1,self.heads_num,self.input_d,self.qkv_d)\n",
        "              attention = self.attention(query,key,value,self.qkv_d,mask).permute((0,2,3,1)).contiguous().view(-1,self.input_d,self.model_d)\n",
        "              out = self.out(attention)\n",
        "              return out\n",
        "\n",
        "\n"
      ],
      "metadata": {
        "id": "P7P7dwHirIiu"
      },
      "execution_count": null,
      "outputs": []
    },
    {
      "cell_type": "code",
      "source": [
        "import torch.nn.functional as F\n",
        "class FeedForward(nn.Module) :\n",
        "        def __init__(self,input_size,output_size,hidden_size,dropout_p=0.1) :\n",
        "                  super(FeedForward,self).__init__()\n",
        "                  self.fc1 =  nn.Linear(input_size,hidden_size)\n",
        "                  self.fc2 = nn.Linear(hidden_size,output_size)\n",
        "                  self.dropout = nn.Dropout(p=dropout_p)\n",
        "        def forward(self,x) :\n",
        "                  x = F.relu(self.fc1(x))\n",
        "                  x = self.dropout(x)\n",
        "                  x = self.fc2(x)\n",
        "                  return x"
      ],
      "metadata": {
        "id": "NZvinSs45GIM"
      },
      "execution_count": null,
      "outputs": []
    },
    {
      "cell_type": "code",
      "source": [
        "class EncoderLayer(nn.Module) :\n",
        "     def __init__(self,model_d,dropout_p,vocab_size=500,max_length=1000,hidden_size=2048,attention_heads=8) :\n",
        "        super(EncoderLayer,self).__init__()\n",
        "        self.model_d = model_d\n",
        "        self.max_length = max_length\n",
        "        self.hidden_size = hidden_size\n",
        "        self.vocab_size = vocab_size\n",
        "        self.attention_heads = attention_heads\n",
        "        self.dropout1 = nn.Dropout(p=dropout_p)\n",
        "        self.dropout2 = nn.Dropout(p=dropout_p)\n",
        "        self.multi_head_attention =  MultiHeadAttention(self.max_length,self.model_d,self.attention_heads)\n",
        "        self.layernorm = LayerNorm()\n",
        "        self.fc = FeedForward(self.model_d,self.model_d,self.hidden_size)\n",
        "     def forward(self,x,mask=None) :\n",
        "              res_x = x.clone()\n",
        "              x = self.multi_head_attention(x,mask)\n",
        "              x = self.dropout1(x)\n",
        "              x = self.layernorm(x + res_x )\n",
        "              res_x = x.clone()\n",
        "              x = self.fc(x)\n",
        "              x = self.dropout2(x)\n",
        "              x =  self.layernorm(x + res_x )\n",
        "              return x\n"
      ],
      "metadata": {
        "id": "Hvs851lvxa44"
      },
      "execution_count": null,
      "outputs": []
    },
    {
      "cell_type": "code",
      "source": [
        "class EncoderLayers(nn.Sequential) :\n",
        "\n",
        "          def forward(self, x,mask=None):\n",
        "                     for module in self._modules.values():\n",
        "                          x = module(x,mask)\n",
        "                     return x"
      ],
      "metadata": {
        "id": "_AsFvF_AviXw"
      },
      "execution_count": null,
      "outputs": []
    },
    {
      "cell_type": "code",
      "source": [
        "class Encoder(nn.Module):\n",
        "           def __init__(self,model_d,dropout_p,num_layers,language_to_index,start_token,end_token,pad_token,vocab_size=500,max_length=1000,hidden_size=2048,attention_heads=8) :\n",
        "                super(Encoder,self).__init__()\n",
        "                self.layers  = EncoderLayers(*[ EncoderLayer(model_d,dropout_p,vocab_size,max_length,hidden_size,attention_heads) for _ in range(num_layers)])\n",
        "                self.tokenizer = Tokenizer(model_d,max_sequence_length,language_to_index,start_token,end_token,pad_token)\n",
        "           def forward(self,x,mask,start_token,end_token) :\n",
        "                   x = self.tokenizer(x,start_token,end_token)\n",
        "                   x = self.layers(x,mask)\n",
        "                   return x\n",
        "\n"
      ],
      "metadata": {
        "id": "jlLAww7VvrGg"
      },
      "execution_count": null,
      "outputs": []
    },
    {
      "cell_type": "code",
      "source": [
        "class DecoderLayer(nn.Module) :\n",
        "        def __init__(self,model_d,dropout_p,vocab_size=500,max_length=1000,hidden_size=2048,attention_heads=8) :\n",
        "            super(DecoderLayer,self).__init__()\n",
        "            self.model_d = model_d\n",
        "            self.max_length = max_length\n",
        "            self.hidden_size = hidden_size\n",
        "            self.vocab_size = vocab_size\n",
        "            self.attention_heads = attention_heads\n",
        "            self.dropout1 = nn.Dropout(p=dropout_p)\n",
        "            self.dropout2 = nn.Dropout(p=dropout_p)\n",
        "            self.dropout3 = nn.Dropout(p=dropout_p)\n",
        "            self.multi_head_attention =  MultiHeadAttention(self.max_length,self.model_d,self.attention_heads)\n",
        "            self.layernorm = LayerNorm()\n",
        "            self.fc = FeedForward(self.model_d,self.model_d,self.hidden_size)\n",
        "\n",
        "        def forward(self,x,encoder_out,att_mask,pad_mask) :\n",
        "                    res_x = x.clone()\n",
        "                    x = self.multi_head_attention(x,att_mask)\n",
        "                    x = self.dropout1(x)\n",
        "                    x = self.layernorm(x + res_x )\n",
        "                    res_x = x.clone()\n",
        "                    x  = self.multi_head_attention((x,encoder_out,encoder_out),pad_mask)\n",
        "                    x = self.dropout2(x)\n",
        "                    x = self.layernorm(x + res_x )\n",
        "                    res_x = x.clone()\n",
        "                    x =  self.fc(x)\n",
        "                    x = self.dropout3(x)\n",
        "                    x = self.layernorm(x + res_x )\n",
        "                    return x\n"
      ],
      "metadata": {
        "id": "_f1sUiO_oKbe"
      },
      "execution_count": null,
      "outputs": []
    },
    {
      "cell_type": "code",
      "source": [
        "class DecoderLayers(nn.Sequential) :\n",
        "\n",
        "          def forward(self, x, encoder_out,att_mask,pad_mask):\n",
        "                     for module in self._modules.values():\n",
        "                          x = module(x,encoder_out,att_mask,pad_mask)\n",
        "                     return x"
      ],
      "metadata": {
        "id": "1AeZDQPxJw82"
      },
      "execution_count": null,
      "outputs": []
    },
    {
      "cell_type": "code",
      "source": [
        "class Decoder(nn.Module):\n",
        "           def __init__(self,model_d,dropout_p,num_layers,language_to_index,start_token,end_token,pad_token,vocab_size=500,max_length=1000,hidden_size=2048,attention_heads=8) :\n",
        "                super(Decoder,self).__init__()\n",
        "                self.layers  = DecoderLayers(*[ DecoderLayer(model_d,dropout_p,vocab_size,max_length,hidden_size,attention_heads) for _ in range(num_layers)])\n",
        "                self.tokenizer = Tokenizer(model_d,max_sequence_length,language_to_index,start_token,end_token,pad_token)\n",
        "\n",
        "           def forward(self,x,encoder_out,att_mask,pad_mask,start_token,end_token) :\n",
        "                   x = self.tokenizer(x,start_token,end_token)\n",
        "                   x = self.layers(x,encoder_out,att_mask,pad_mask)\n",
        "                   return  x\n",
        "\n"
      ],
      "metadata": {
        "id": "q9s45PefNEm3"
      },
      "execution_count": null,
      "outputs": []
    },
    {
      "cell_type": "code",
      "source": [
        "d_model = 512\n",
        "num_heads = 8\n",
        "drop_prob = 0.1\n",
        "batch_size = 30\n",
        "max_sequence_length = 200\n",
        "ffn_hidden = 2048\n",
        "num_layers = 5\n",
        "\n",
        "x = torch.randn( (batch_size, max_sequence_length, d_model) ) # English sentence positional encoded\n",
        "y = torch.randn( (batch_size, max_sequence_length, d_model) ) # Kannada sentence positional encoded\n",
        "mask = torch.full([max_sequence_length, max_sequence_length] , float('-inf'))\n"
      ],
      "metadata": {
        "id": "oXwWQCtVxsRG"
      },
      "execution_count": null,
      "outputs": []
    },
    {
      "cell_type": "code",
      "source": [
        "mask_d = (max_sequence_length,max_sequence_length)\n",
        "mask = torch.triu(torch.ones(mask_d),diagonal=1)\n",
        "print(mask)"
      ],
      "metadata": {
        "colab": {
          "base_uri": "https://localhost:8080/"
        },
        "id": "49WCY6aB1Kkx",
        "outputId": "1ecc8d25-2cf8-4d58-f59e-11ef7861f78f"
      },
      "execution_count": null,
      "outputs": [
        {
          "output_type": "stream",
          "name": "stdout",
          "text": [
            "tensor([[0., 1., 1.,  ..., 1., 1., 1.],\n",
            "        [0., 0., 1.,  ..., 1., 1., 1.],\n",
            "        [0., 0., 0.,  ..., 1., 1., 1.],\n",
            "        ...,\n",
            "        [0., 0., 0.,  ..., 0., 1., 1.],\n",
            "        [0., 0., 0.,  ..., 0., 0., 1.],\n",
            "        [0., 0., 0.,  ..., 0., 0., 0.]])\n"
          ]
        }
      ]
    },
    {
      "cell_type": "code",
      "source": [
        "class Transformer(nn.Module):\n",
        "    def __init__(self,model_d,dropout_p,\n",
        "                num_layers,\n",
        "                english_to_index,\n",
        "                german_to_index,\n",
        "                start_token,\n",
        "                end_token,\n",
        "                pad_token\n",
        "                ,vocab_size=500,max_length=1000,hidden_size=2048,attention_heads=8\n",
        "                ):\n",
        "        super().__init__()\n",
        "        self.encoder = Encoder(model_d,dropout_p,num_layers,english_to_index,start_token,end_token,pad_token)\n",
        "        self.decoder = Decoder(model_d,dropout_p,num_layers,german_to_index,start_token,end_token,pad_token)\n",
        "        self.linear = nn.Linear(d_model, vocab_size)\n",
        "        self.device = torch.device('cuda') if torch.cuda.is_available() else torch.device('cpu')\n",
        "\n",
        "    def forward(self,\n",
        "                x,\n",
        "                y,\n",
        "                encoder_pad_mask=None,\n",
        "                decoder_att_mask=None,\n",
        "                decoder_pad_mask=None,\n",
        "                enc_start_token=False,\n",
        "                enc_end_token=False,\n",
        "                dec_start_token=False, # We should make this true\n",
        "                dec_end_token=False): # x, y are batch of sentences\n",
        "        x = self.encoder(x,encoder_pad_mask ,start_token=enc_start_token, end_token=enc_end_token)\n",
        "        out = self.decoder(y,x,decoder_att_mask,decoder_pad_mask, start_token=dec_start_token, end_token=dec_end_token)\n",
        "        out = self.linear(out)\n",
        "        return out"
      ],
      "metadata": {
        "id": "MiyvpelcDf_F"
      },
      "execution_count": null,
      "outputs": []
    },
    {
      "cell_type": "code",
      "source": [
        "import numpy as np\n",
        "\n",
        "\n",
        "file_path = \"./deu.txt\"\n",
        "start_token = ''\n",
        "end_token = ''\n",
        "pad_token = ''\n",
        "english_vocabulary = [start_token, ' ', '!', '\"', '#', '$', '%', '&', \"'\", '(', ')', '*', '+', ',', '-', '.', '/',\n",
        "                        '0', '1', '2', '3', '4', '5', '6', '7', '8', '9',\n",
        "                      ':', '<', '=', '>', '?', '@','[', '\\\\', ']', '^', '_', '`',\n",
        "                        'a', 'b', 'c', 'd', 'e', 'f', 'g', 'h', 'i', 'j', 'k', 'l',\n",
        "                        'm', 'n', 'o', 'p', 'q', 'r', 's', 't', 'u', 'v', 'w', 'x',\n",
        "                        'y', 'z',\n",
        "                        '{', '|', '}', '~', pad_token, end_token]\n",
        "\n",
        "german_vocabulary = german_vocabulary = [start_token, ' ', '!', '\"', '#', '$', '%', '&', \"'\", '(', ')', '*', '+', ',', '-', '.', '/',\n",
        "                      '0', '1', '2', '3', '4', '5', '6', '7', '8', '9',\n",
        "                      ':', '<', '=', '>', '?', '@', '[', '\\\\', ']', '^', '_', '`',\n",
        "                      'a', 'b', 'c', 'd', 'e', 'f', 'g', 'h', 'i', 'j', 'k', 'l',\n",
        "                      'm', 'n', 'o', 'p', 'q', 'r', 's', 't', 'u', 'v', 'w', 'x',\n",
        "                      'y', 'z', 'ä', 'ö', 'ü', 'ß',\n",
        "                      '{', '|', '}', '~', pad_token, end_token]\n"
      ],
      "metadata": {
        "id": "B9AsmS8rwL1l"
      },
      "execution_count": 12,
      "outputs": []
    },
    {
      "cell_type": "code",
      "source": [
        "index_to_german = {k : v  for k,v in enumerate(german_vocabulary)}\n",
        "german_to_index = {v : k  for k,v in enumerate(german_vocabulary)}\n",
        "index_to_english = {k : v  for k,v in enumerate(english_vocabulary)}\n",
        "english_to_index = {v : k  for k,v in enumerate(english_vocabulary)}"
      ],
      "metadata": {
        "id": "8CB0ftrQYek2"
      },
      "execution_count": 14,
      "outputs": []
    },
    {
      "cell_type": "code",
      "source": [
        "\n",
        "with open(file_path, 'r') as file:\n",
        "    raw_data = file.readlines()"
      ],
      "metadata": {
        "id": "AqYqQdcOZCzL"
      },
      "execution_count": 17,
      "outputs": []
    },
    {
      "cell_type": "code",
      "source": [
        "english_sentences[:10]"
      ],
      "metadata": {
        "colab": {
          "base_uri": "https://localhost:8080/"
        },
        "id": "c5HA1J1laXQ2",
        "outputId": "16d4d834-7f81-4923-f9da-c891382931a6"
      },
      "execution_count": 18,
      "outputs": [
        {
          "output_type": "execute_result",
          "data": {
            "text/plain": [
              "['Go.\\tGeh.\\tCC-BY 2.0 (France) Attribution: tatoeba.org #2877272 (CM) & #8597805 (Roujin)\\n',\n",
              " 'Hi.\\tHallo!\\tCC-BY 2.0 (France) Attribution: tatoeba.org #538123 (CM) & #380701 (cburgmer)\\n',\n",
              " 'Hi.\\tGrüß Gott!\\tCC-BY 2.0 (France) Attribution: tatoeba.org #538123 (CM) & #659813 (Esperantostern)\\n',\n",
              " 'Run!\\tLauf!\\tCC-BY 2.0 (France) Attribution: tatoeba.org #906328 (papabear) & #941078 (Fingerhut)\\n',\n",
              " 'Run.\\tLauf!\\tCC-BY 2.0 (France) Attribution: tatoeba.org #4008918 (JSakuragi) & #941078 (Fingerhut)\\n',\n",
              " 'Wow!\\tPotzdonner!\\tCC-BY 2.0 (France) Attribution: tatoeba.org #52027 (Zifre) & #2122382 (Pfirsichbaeumchen)\\n',\n",
              " 'Wow!\\tDonnerwetter!\\tCC-BY 2.0 (France) Attribution: tatoeba.org #52027 (Zifre) & #2122391 (Pfirsichbaeumchen)\\n',\n",
              " 'Fire!\\tFeuer!\\tCC-BY 2.0 (France) Attribution: tatoeba.org #1829639 (Spamster) & #1958697 (Tamy)\\n',\n",
              " 'Help!\\tHilfe!\\tCC-BY 2.0 (France) Attribution: tatoeba.org #435084 (lukaszpp) & #575889 (MUIRIEL)\\n',\n",
              " 'Help!\\tZu Hülf!\\tCC-BY 2.0 (France) Attribution: tatoeba.org #435084 (lukaszpp) & #2122375 (Pfirsichbaeumchen)\\n']"
            ]
          },
          "metadata": {},
          "execution_count": 18
        }
      ]
    }
  ]
}